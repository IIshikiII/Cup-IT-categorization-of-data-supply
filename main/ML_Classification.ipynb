{
 "cells": [
  {
   "cell_type": "code",
   "execution_count": 2,
   "metadata": {},
   "outputs": [],
   "source": [
    "import numpy as np\n",
    "import pandas as pd\n",
    "import seaborn as sns\n",
    "import plotly.express as px\n",
    "import matplotlib.pyplot as plt\n",
    "\n",
    "from scipy import stats\n",
    "\n",
    "import datetime"
   ]
  },
  {
   "cell_type": "code",
   "execution_count": 3,
   "metadata": {},
   "outputs": [
    {
     "name": "stderr",
     "output_type": "stream",
     "text": [
      "C:\\Users\\Дмитрий\\AppData\\Local\\Temp\\ipykernel_7444\\2786130087.py:1: FutureWarning: use_inf_as_na option is deprecated and will be removed in a future version. Convert inf values to NaN before operating instead.\n",
      "  pd.reset_option('all')\n"
     ]
    }
   ],
   "source": [
    "pd.reset_option('all')"
   ]
  },
  {
   "cell_type": "code",
   "execution_count": 4,
   "metadata": {},
   "outputs": [
    {
     "data": {
      "text/html": [
       "<div>\n",
       "<style scoped>\n",
       "    .dataframe tbody tr th:only-of-type {\n",
       "        vertical-align: middle;\n",
       "    }\n",
       "\n",
       "    .dataframe tbody tr th {\n",
       "        vertical-align: top;\n",
       "    }\n",
       "\n",
       "    .dataframe thead th {\n",
       "        text-align: right;\n",
       "    }\n",
       "</style>\n",
       "<table border=\"1\" class=\"dataframe\">\n",
       "  <thead>\n",
       "    <tr style=\"text-align: right;\">\n",
       "      <th></th>\n",
       "      <th>Unnamed: 0</th>\n",
       "      <th>ctl_loading_date</th>\n",
       "      <th>ctl_loading</th>\n",
       "      <th>string_quantity</th>\n",
       "      <th>duplicated_by_loading</th>\n",
       "      <th>corrections</th>\n",
       "      <th>delay</th>\n",
       "      <th>day_of_week</th>\n",
       "      <th>cumulative_missing_days</th>\n",
       "      <th>rank</th>\n",
       "      <th>outliers</th>\n",
       "    </tr>\n",
       "  </thead>\n",
       "  <tbody>\n",
       "    <tr>\n",
       "      <th>0</th>\n",
       "      <td>0</td>\n",
       "      <td>2018-04-09</td>\n",
       "      <td>38463471715</td>\n",
       "      <td>435</td>\n",
       "      <td>12</td>\n",
       "      <td>28</td>\n",
       "      <td>0 days</td>\n",
       "      <td>0</td>\n",
       "      <td>0</td>\n",
       "      <td>1</td>\n",
       "      <td>0</td>\n",
       "    </tr>\n",
       "    <tr>\n",
       "      <th>1</th>\n",
       "      <td>1</td>\n",
       "      <td>2018-04-10</td>\n",
       "      <td>36624943566</td>\n",
       "      <td>476</td>\n",
       "      <td>7</td>\n",
       "      <td>31</td>\n",
       "      <td>0 days</td>\n",
       "      <td>1</td>\n",
       "      <td>0</td>\n",
       "      <td>1</td>\n",
       "      <td>0</td>\n",
       "    </tr>\n",
       "    <tr>\n",
       "      <th>2</th>\n",
       "      <td>2</td>\n",
       "      <td>2018-04-11</td>\n",
       "      <td>90124869960</td>\n",
       "      <td>458</td>\n",
       "      <td>12</td>\n",
       "      <td>30</td>\n",
       "      <td>0 days</td>\n",
       "      <td>2</td>\n",
       "      <td>0</td>\n",
       "      <td>1</td>\n",
       "      <td>0</td>\n",
       "    </tr>\n",
       "    <tr>\n",
       "      <th>3</th>\n",
       "      <td>3</td>\n",
       "      <td>2018-04-12</td>\n",
       "      <td>54580391004</td>\n",
       "      <td>443</td>\n",
       "      <td>10</td>\n",
       "      <td>29</td>\n",
       "      <td>0 days</td>\n",
       "      <td>3</td>\n",
       "      <td>0</td>\n",
       "      <td>1</td>\n",
       "      <td>0</td>\n",
       "    </tr>\n",
       "    <tr>\n",
       "      <th>4</th>\n",
       "      <td>4</td>\n",
       "      <td>2018-04-13</td>\n",
       "      <td>80543078668</td>\n",
       "      <td>458</td>\n",
       "      <td>10</td>\n",
       "      <td>30</td>\n",
       "      <td>0 days</td>\n",
       "      <td>4</td>\n",
       "      <td>0</td>\n",
       "      <td>1</td>\n",
       "      <td>0</td>\n",
       "    </tr>\n",
       "    <tr>\n",
       "      <th>...</th>\n",
       "      <td>...</td>\n",
       "      <td>...</td>\n",
       "      <td>...</td>\n",
       "      <td>...</td>\n",
       "      <td>...</td>\n",
       "      <td>...</td>\n",
       "      <td>...</td>\n",
       "      <td>...</td>\n",
       "      <td>...</td>\n",
       "      <td>...</td>\n",
       "      <td>...</td>\n",
       "    </tr>\n",
       "    <tr>\n",
       "      <th>2290</th>\n",
       "      <td>2290</td>\n",
       "      <td>2024-03-11</td>\n",
       "      <td>30656997473</td>\n",
       "      <td>467</td>\n",
       "      <td>30</td>\n",
       "      <td>34</td>\n",
       "      <td>0 days</td>\n",
       "      <td>0</td>\n",
       "      <td>162</td>\n",
       "      <td>1</td>\n",
       "      <td>0</td>\n",
       "    </tr>\n",
       "    <tr>\n",
       "      <th>2291</th>\n",
       "      <td>2291</td>\n",
       "      <td>2024-03-12</td>\n",
       "      <td>61550260885</td>\n",
       "      <td>458</td>\n",
       "      <td>26</td>\n",
       "      <td>34</td>\n",
       "      <td>0 days</td>\n",
       "      <td>1</td>\n",
       "      <td>162</td>\n",
       "      <td>1</td>\n",
       "      <td>0</td>\n",
       "    </tr>\n",
       "    <tr>\n",
       "      <th>2292</th>\n",
       "      <td>2292</td>\n",
       "      <td>2024-03-13</td>\n",
       "      <td>57912146515</td>\n",
       "      <td>458</td>\n",
       "      <td>29</td>\n",
       "      <td>34</td>\n",
       "      <td>0 days</td>\n",
       "      <td>2</td>\n",
       "      <td>162</td>\n",
       "      <td>1</td>\n",
       "      <td>0</td>\n",
       "    </tr>\n",
       "    <tr>\n",
       "      <th>2293</th>\n",
       "      <td>2293</td>\n",
       "      <td>2024-03-14</td>\n",
       "      <td>6038571654</td>\n",
       "      <td>422</td>\n",
       "      <td>26</td>\n",
       "      <td>31</td>\n",
       "      <td>0 days</td>\n",
       "      <td>3</td>\n",
       "      <td>162</td>\n",
       "      <td>1</td>\n",
       "      <td>1</td>\n",
       "    </tr>\n",
       "    <tr>\n",
       "      <th>2294</th>\n",
       "      <td>2294</td>\n",
       "      <td>2024-03-15</td>\n",
       "      <td>83427809714</td>\n",
       "      <td>458</td>\n",
       "      <td>29</td>\n",
       "      <td>34</td>\n",
       "      <td>0 days</td>\n",
       "      <td>4</td>\n",
       "      <td>162</td>\n",
       "      <td>1</td>\n",
       "      <td>0</td>\n",
       "    </tr>\n",
       "  </tbody>\n",
       "</table>\n",
       "<p>2295 rows × 11 columns</p>\n",
       "</div>"
      ],
      "text/plain": [
       "      Unnamed: 0 ctl_loading_date  ctl_loading  string_quantity  \\\n",
       "0              0       2018-04-09  38463471715              435   \n",
       "1              1       2018-04-10  36624943566              476   \n",
       "2              2       2018-04-11  90124869960              458   \n",
       "3              3       2018-04-12  54580391004              443   \n",
       "4              4       2018-04-13  80543078668              458   \n",
       "...          ...              ...          ...              ...   \n",
       "2290        2290       2024-03-11  30656997473              467   \n",
       "2291        2291       2024-03-12  61550260885              458   \n",
       "2292        2292       2024-03-13  57912146515              458   \n",
       "2293        2293       2024-03-14   6038571654              422   \n",
       "2294        2294       2024-03-15  83427809714              458   \n",
       "\n",
       "      duplicated_by_loading  corrections   delay  day_of_week  \\\n",
       "0                        12           28  0 days            0   \n",
       "1                         7           31  0 days            1   \n",
       "2                        12           30  0 days            2   \n",
       "3                        10           29  0 days            3   \n",
       "4                        10           30  0 days            4   \n",
       "...                     ...          ...     ...          ...   \n",
       "2290                     30           34  0 days            0   \n",
       "2291                     26           34  0 days            1   \n",
       "2292                     29           34  0 days            2   \n",
       "2293                     26           31  0 days            3   \n",
       "2294                     29           34  0 days            4   \n",
       "\n",
       "      cumulative_missing_days  rank  outliers  \n",
       "0                           0     1         0  \n",
       "1                           0     1         0  \n",
       "2                           0     1         0  \n",
       "3                           0     1         0  \n",
       "4                           0     1         0  \n",
       "...                       ...   ...       ...  \n",
       "2290                      162     1         0  \n",
       "2291                      162     1         0  \n",
       "2292                      162     1         0  \n",
       "2293                      162     1         1  \n",
       "2294                      162     1         0  \n",
       "\n",
       "[2295 rows x 11 columns]"
      ]
     },
     "execution_count": 4,
     "metadata": {},
     "output_type": "execute_result"
    }
   ],
   "source": [
    "data_origin = pd.read_csv(\"data_signs_with_outliers.csv\")\n",
    "data_origin"
   ]
  },
  {
   "cell_type": "code",
   "execution_count": 5,
   "metadata": {},
   "outputs": [
    {
     "data": {
      "text/html": [
       "<div>\n",
       "<style scoped>\n",
       "    .dataframe tbody tr th:only-of-type {\n",
       "        vertical-align: middle;\n",
       "    }\n",
       "\n",
       "    .dataframe tbody tr th {\n",
       "        vertical-align: top;\n",
       "    }\n",
       "\n",
       "    .dataframe thead th {\n",
       "        text-align: right;\n",
       "    }\n",
       "</style>\n",
       "<table border=\"1\" class=\"dataframe\">\n",
       "  <thead>\n",
       "    <tr style=\"text-align: right;\">\n",
       "      <th></th>\n",
       "      <th>Unnamed: 0</th>\n",
       "      <th>ctl_loading_date</th>\n",
       "      <th>ctl_loading</th>\n",
       "      <th>string_quantity</th>\n",
       "      <th>duplicated_by_loading</th>\n",
       "      <th>corrections</th>\n",
       "      <th>delay</th>\n",
       "      <th>day_of_week</th>\n",
       "      <th>cumulative_missing_days</th>\n",
       "      <th>rank</th>\n",
       "      <th>outliers</th>\n",
       "    </tr>\n",
       "  </thead>\n",
       "  <tbody>\n",
       "    <tr>\n",
       "      <th>2294</th>\n",
       "      <td>2294</td>\n",
       "      <td>2024-03-15</td>\n",
       "      <td>83427809714</td>\n",
       "      <td>458</td>\n",
       "      <td>29</td>\n",
       "      <td>34</td>\n",
       "      <td>0 days</td>\n",
       "      <td>4</td>\n",
       "      <td>162</td>\n",
       "      <td>1</td>\n",
       "      <td>0</td>\n",
       "    </tr>\n",
       "  </tbody>\n",
       "</table>\n",
       "</div>"
      ],
      "text/plain": [
       "      Unnamed: 0 ctl_loading_date  ctl_loading  string_quantity  \\\n",
       "2294        2294       2024-03-15  83427809714              458   \n",
       "\n",
       "      duplicated_by_loading  corrections   delay  day_of_week  \\\n",
       "2294                     29           34  0 days            4   \n",
       "\n",
       "      cumulative_missing_days  rank  outliers  \n",
       "2294                      162     1         0  "
      ]
     },
     "execution_count": 5,
     "metadata": {},
     "output_type": "execute_result"
    }
   ],
   "source": [
    "data_origin[data_origin['ctl_loading_date'] == '2024-03-15']"
   ]
  },
  {
   "cell_type": "code",
   "execution_count": 6,
   "metadata": {},
   "outputs": [
    {
     "data": {
      "text/html": [
       "<div>\n",
       "<style scoped>\n",
       "    .dataframe tbody tr th:only-of-type {\n",
       "        vertical-align: middle;\n",
       "    }\n",
       "\n",
       "    .dataframe tbody tr th {\n",
       "        vertical-align: top;\n",
       "    }\n",
       "\n",
       "    .dataframe thead th {\n",
       "        text-align: right;\n",
       "    }\n",
       "</style>\n",
       "<table border=\"1\" class=\"dataframe\">\n",
       "  <thead>\n",
       "    <tr style=\"text-align: right;\">\n",
       "      <th></th>\n",
       "      <th>Unnamed: 0</th>\n",
       "      <th>ctl_loading_date</th>\n",
       "      <th>ctl_loading</th>\n",
       "      <th>string_quantity</th>\n",
       "      <th>duplicated_by_loading</th>\n",
       "      <th>corrections</th>\n",
       "      <th>delay</th>\n",
       "      <th>day_of_week</th>\n",
       "      <th>cumulative_missing_days</th>\n",
       "      <th>rank</th>\n",
       "      <th>outliers</th>\n",
       "    </tr>\n",
       "  </thead>\n",
       "  <tbody>\n",
       "    <tr>\n",
       "      <th>0</th>\n",
       "      <td>0</td>\n",
       "      <td>2018-04-09</td>\n",
       "      <td>38463471715</td>\n",
       "      <td>435</td>\n",
       "      <td>12</td>\n",
       "      <td>28</td>\n",
       "      <td>0 days</td>\n",
       "      <td>0</td>\n",
       "      <td>0</td>\n",
       "      <td>1</td>\n",
       "      <td>0</td>\n",
       "    </tr>\n",
       "    <tr>\n",
       "      <th>1</th>\n",
       "      <td>1</td>\n",
       "      <td>2018-04-10</td>\n",
       "      <td>36624943566</td>\n",
       "      <td>476</td>\n",
       "      <td>7</td>\n",
       "      <td>31</td>\n",
       "      <td>0 days</td>\n",
       "      <td>1</td>\n",
       "      <td>0</td>\n",
       "      <td>1</td>\n",
       "      <td>0</td>\n",
       "    </tr>\n",
       "    <tr>\n",
       "      <th>2</th>\n",
       "      <td>2</td>\n",
       "      <td>2018-04-11</td>\n",
       "      <td>90124869960</td>\n",
       "      <td>458</td>\n",
       "      <td>12</td>\n",
       "      <td>30</td>\n",
       "      <td>0 days</td>\n",
       "      <td>2</td>\n",
       "      <td>0</td>\n",
       "      <td>1</td>\n",
       "      <td>0</td>\n",
       "    </tr>\n",
       "    <tr>\n",
       "      <th>3</th>\n",
       "      <td>3</td>\n",
       "      <td>2018-04-12</td>\n",
       "      <td>54580391004</td>\n",
       "      <td>443</td>\n",
       "      <td>10</td>\n",
       "      <td>29</td>\n",
       "      <td>0 days</td>\n",
       "      <td>3</td>\n",
       "      <td>0</td>\n",
       "      <td>1</td>\n",
       "      <td>0</td>\n",
       "    </tr>\n",
       "    <tr>\n",
       "      <th>4</th>\n",
       "      <td>4</td>\n",
       "      <td>2018-04-13</td>\n",
       "      <td>80543078668</td>\n",
       "      <td>458</td>\n",
       "      <td>10</td>\n",
       "      <td>30</td>\n",
       "      <td>0 days</td>\n",
       "      <td>4</td>\n",
       "      <td>0</td>\n",
       "      <td>1</td>\n",
       "      <td>0</td>\n",
       "    </tr>\n",
       "    <tr>\n",
       "      <th>...</th>\n",
       "      <td>...</td>\n",
       "      <td>...</td>\n",
       "      <td>...</td>\n",
       "      <td>...</td>\n",
       "      <td>...</td>\n",
       "      <td>...</td>\n",
       "      <td>...</td>\n",
       "      <td>...</td>\n",
       "      <td>...</td>\n",
       "      <td>...</td>\n",
       "      <td>...</td>\n",
       "    </tr>\n",
       "    <tr>\n",
       "      <th>2289</th>\n",
       "      <td>2289</td>\n",
       "      <td>2024-03-10</td>\n",
       "      <td>70653532184</td>\n",
       "      <td>492</td>\n",
       "      <td>30</td>\n",
       "      <td>36</td>\n",
       "      <td>0 days</td>\n",
       "      <td>6</td>\n",
       "      <td>162</td>\n",
       "      <td>1</td>\n",
       "      <td>0</td>\n",
       "    </tr>\n",
       "    <tr>\n",
       "      <th>2290</th>\n",
       "      <td>2290</td>\n",
       "      <td>2024-03-11</td>\n",
       "      <td>30656997473</td>\n",
       "      <td>467</td>\n",
       "      <td>30</td>\n",
       "      <td>34</td>\n",
       "      <td>0 days</td>\n",
       "      <td>0</td>\n",
       "      <td>162</td>\n",
       "      <td>1</td>\n",
       "      <td>0</td>\n",
       "    </tr>\n",
       "    <tr>\n",
       "      <th>2291</th>\n",
       "      <td>2291</td>\n",
       "      <td>2024-03-12</td>\n",
       "      <td>61550260885</td>\n",
       "      <td>458</td>\n",
       "      <td>26</td>\n",
       "      <td>34</td>\n",
       "      <td>0 days</td>\n",
       "      <td>1</td>\n",
       "      <td>162</td>\n",
       "      <td>1</td>\n",
       "      <td>0</td>\n",
       "    </tr>\n",
       "    <tr>\n",
       "      <th>2292</th>\n",
       "      <td>2292</td>\n",
       "      <td>2024-03-13</td>\n",
       "      <td>57912146515</td>\n",
       "      <td>458</td>\n",
       "      <td>29</td>\n",
       "      <td>34</td>\n",
       "      <td>0 days</td>\n",
       "      <td>2</td>\n",
       "      <td>162</td>\n",
       "      <td>1</td>\n",
       "      <td>0</td>\n",
       "    </tr>\n",
       "    <tr>\n",
       "      <th>2293</th>\n",
       "      <td>2293</td>\n",
       "      <td>2024-03-14</td>\n",
       "      <td>6038571654</td>\n",
       "      <td>422</td>\n",
       "      <td>26</td>\n",
       "      <td>31</td>\n",
       "      <td>0 days</td>\n",
       "      <td>3</td>\n",
       "      <td>162</td>\n",
       "      <td>1</td>\n",
       "      <td>1</td>\n",
       "    </tr>\n",
       "  </tbody>\n",
       "</table>\n",
       "<p>2294 rows × 11 columns</p>\n",
       "</div>"
      ],
      "text/plain": [
       "      Unnamed: 0 ctl_loading_date  ctl_loading  string_quantity  \\\n",
       "0              0       2018-04-09  38463471715              435   \n",
       "1              1       2018-04-10  36624943566              476   \n",
       "2              2       2018-04-11  90124869960              458   \n",
       "3              3       2018-04-12  54580391004              443   \n",
       "4              4       2018-04-13  80543078668              458   \n",
       "...          ...              ...          ...              ...   \n",
       "2289        2289       2024-03-10  70653532184              492   \n",
       "2290        2290       2024-03-11  30656997473              467   \n",
       "2291        2291       2024-03-12  61550260885              458   \n",
       "2292        2292       2024-03-13  57912146515              458   \n",
       "2293        2293       2024-03-14   6038571654              422   \n",
       "\n",
       "      duplicated_by_loading  corrections   delay  day_of_week  \\\n",
       "0                        12           28  0 days            0   \n",
       "1                         7           31  0 days            1   \n",
       "2                        12           30  0 days            2   \n",
       "3                        10           29  0 days            3   \n",
       "4                        10           30  0 days            4   \n",
       "...                     ...          ...     ...          ...   \n",
       "2289                     30           36  0 days            6   \n",
       "2290                     30           34  0 days            0   \n",
       "2291                     26           34  0 days            1   \n",
       "2292                     29           34  0 days            2   \n",
       "2293                     26           31  0 days            3   \n",
       "\n",
       "      cumulative_missing_days  rank  outliers  \n",
       "0                           0     1         0  \n",
       "1                           0     1         0  \n",
       "2                           0     1         0  \n",
       "3                           0     1         0  \n",
       "4                           0     1         0  \n",
       "...                       ...   ...       ...  \n",
       "2289                      162     1         0  \n",
       "2290                      162     1         0  \n",
       "2291                      162     1         0  \n",
       "2292                      162     1         0  \n",
       "2293                      162     1         1  \n",
       "\n",
       "[2294 rows x 11 columns]"
      ]
     },
     "execution_count": 6,
     "metadata": {},
     "output_type": "execute_result"
    }
   ],
   "source": [
    "data_origin = data_origin[data_origin['ctl_loading_date'] != '2024-03-15']\n",
    "data_origin"
   ]
  },
  {
   "cell_type": "code",
   "execution_count": 7,
   "metadata": {},
   "outputs": [
    {
     "data": {
      "text/plain": [
       "array([0, 1, 2], dtype=int64)"
      ]
     },
     "execution_count": 7,
     "metadata": {},
     "output_type": "execute_result"
    }
   ],
   "source": [
    "data_origin['outliers'].unique()"
   ]
  },
  {
   "cell_type": "code",
   "execution_count": 8,
   "metadata": {},
   "outputs": [
    {
     "data": {
      "text/plain": [
       "1784"
      ]
     },
     "execution_count": 8,
     "metadata": {},
     "output_type": "execute_result"
    }
   ],
   "source": [
    "data_origin[data_origin['outliers'] == 0].shape[0]   "
   ]
  },
  {
   "cell_type": "code",
   "execution_count": 9,
   "metadata": {},
   "outputs": [
    {
     "data": {
      "text/plain": [
       "355"
      ]
     },
     "execution_count": 9,
     "metadata": {},
     "output_type": "execute_result"
    }
   ],
   "source": [
    "data_origin[data_origin['outliers'] == 1].shape[0]   "
   ]
  },
  {
   "cell_type": "code",
   "execution_count": 10,
   "metadata": {},
   "outputs": [
    {
     "data": {
      "text/plain": [
       "155"
      ]
     },
     "execution_count": 10,
     "metadata": {},
     "output_type": "execute_result"
    }
   ],
   "source": [
    "data_origin[data_origin['outliers'] == 2].shape[0]   "
   ]
  },
  {
   "cell_type": "code",
   "execution_count": 11,
   "metadata": {},
   "outputs": [
    {
     "data": {
      "text/html": [
       "<div>\n",
       "<style scoped>\n",
       "    .dataframe tbody tr th:only-of-type {\n",
       "        vertical-align: middle;\n",
       "    }\n",
       "\n",
       "    .dataframe tbody tr th {\n",
       "        vertical-align: top;\n",
       "    }\n",
       "\n",
       "    .dataframe thead th {\n",
       "        text-align: right;\n",
       "    }\n",
       "</style>\n",
       "<table border=\"1\" class=\"dataframe\">\n",
       "  <thead>\n",
       "    <tr style=\"text-align: right;\">\n",
       "      <th></th>\n",
       "      <th>Unnamed: 0</th>\n",
       "      <th>ctl_loading_date</th>\n",
       "      <th>ctl_loading</th>\n",
       "      <th>string_quantity</th>\n",
       "      <th>duplicated_by_loading</th>\n",
       "      <th>corrections</th>\n",
       "      <th>delay</th>\n",
       "      <th>day_of_week</th>\n",
       "      <th>cumulative_missing_days</th>\n",
       "      <th>rank</th>\n",
       "      <th>outliers</th>\n",
       "    </tr>\n",
       "  </thead>\n",
       "  <tbody>\n",
       "    <tr>\n",
       "      <th>6</th>\n",
       "      <td>6</td>\n",
       "      <td>2018-04-15</td>\n",
       "      <td>61093947578</td>\n",
       "      <td>422</td>\n",
       "      <td>7</td>\n",
       "      <td>26</td>\n",
       "      <td>0 days</td>\n",
       "      <td>6</td>\n",
       "      <td>0</td>\n",
       "      <td>1</td>\n",
       "      <td>1</td>\n",
       "    </tr>\n",
       "    <tr>\n",
       "      <th>8</th>\n",
       "      <td>8</td>\n",
       "      <td>2018-04-17</td>\n",
       "      <td>43797555261</td>\n",
       "      <td>424</td>\n",
       "      <td>10</td>\n",
       "      <td>26</td>\n",
       "      <td>0 days</td>\n",
       "      <td>1</td>\n",
       "      <td>0</td>\n",
       "      <td>1</td>\n",
       "      <td>1</td>\n",
       "    </tr>\n",
       "    <tr>\n",
       "      <th>17</th>\n",
       "      <td>17</td>\n",
       "      <td>2018-04-26</td>\n",
       "      <td>25902764987</td>\n",
       "      <td>428</td>\n",
       "      <td>14</td>\n",
       "      <td>27</td>\n",
       "      <td>0 days</td>\n",
       "      <td>3</td>\n",
       "      <td>0</td>\n",
       "      <td>1</td>\n",
       "      <td>1</td>\n",
       "    </tr>\n",
       "    <tr>\n",
       "      <th>18</th>\n",
       "      <td>18</td>\n",
       "      <td>2018-04-27</td>\n",
       "      <td>92328498590</td>\n",
       "      <td>428</td>\n",
       "      <td>12</td>\n",
       "      <td>27</td>\n",
       "      <td>0 days</td>\n",
       "      <td>4</td>\n",
       "      <td>0</td>\n",
       "      <td>1</td>\n",
       "      <td>1</td>\n",
       "    </tr>\n",
       "    <tr>\n",
       "      <th>26</th>\n",
       "      <td>26</td>\n",
       "      <td>2018-05-05</td>\n",
       "      <td>29731994185</td>\n",
       "      <td>426</td>\n",
       "      <td>11</td>\n",
       "      <td>26</td>\n",
       "      <td>0 days</td>\n",
       "      <td>5</td>\n",
       "      <td>0</td>\n",
       "      <td>1</td>\n",
       "      <td>1</td>\n",
       "    </tr>\n",
       "    <tr>\n",
       "      <th>...</th>\n",
       "      <td>...</td>\n",
       "      <td>...</td>\n",
       "      <td>...</td>\n",
       "      <td>...</td>\n",
       "      <td>...</td>\n",
       "      <td>...</td>\n",
       "      <td>...</td>\n",
       "      <td>...</td>\n",
       "      <td>...</td>\n",
       "      <td>...</td>\n",
       "      <td>...</td>\n",
       "    </tr>\n",
       "    <tr>\n",
       "      <th>2268</th>\n",
       "      <td>2268</td>\n",
       "      <td>2024-02-21</td>\n",
       "      <td>53098448173</td>\n",
       "      <td>431</td>\n",
       "      <td>25</td>\n",
       "      <td>31</td>\n",
       "      <td>0 days</td>\n",
       "      <td>2</td>\n",
       "      <td>158</td>\n",
       "      <td>1</td>\n",
       "      <td>1</td>\n",
       "    </tr>\n",
       "    <tr>\n",
       "      <th>2278</th>\n",
       "      <td>2278</td>\n",
       "      <td>2024-02-29</td>\n",
       "      <td>1884005607</td>\n",
       "      <td>424</td>\n",
       "      <td>25</td>\n",
       "      <td>31</td>\n",
       "      <td>0 days</td>\n",
       "      <td>3</td>\n",
       "      <td>158</td>\n",
       "      <td>1</td>\n",
       "      <td>1</td>\n",
       "    </tr>\n",
       "    <tr>\n",
       "      <th>2279</th>\n",
       "      <td>2279</td>\n",
       "      <td>2024-03-01</td>\n",
       "      <td>62433216496</td>\n",
       "      <td>436</td>\n",
       "      <td>29</td>\n",
       "      <td>31</td>\n",
       "      <td>0 days</td>\n",
       "      <td>4</td>\n",
       "      <td>158</td>\n",
       "      <td>1</td>\n",
       "      <td>1</td>\n",
       "    </tr>\n",
       "    <tr>\n",
       "      <th>2287</th>\n",
       "      <td>2287</td>\n",
       "      <td>2024-03-08</td>\n",
       "      <td>70519729204</td>\n",
       "      <td>438</td>\n",
       "      <td>28</td>\n",
       "      <td>32</td>\n",
       "      <td>0 days</td>\n",
       "      <td>4</td>\n",
       "      <td>162</td>\n",
       "      <td>1</td>\n",
       "      <td>1</td>\n",
       "    </tr>\n",
       "    <tr>\n",
       "      <th>2293</th>\n",
       "      <td>2293</td>\n",
       "      <td>2024-03-14</td>\n",
       "      <td>6038571654</td>\n",
       "      <td>422</td>\n",
       "      <td>26</td>\n",
       "      <td>31</td>\n",
       "      <td>0 days</td>\n",
       "      <td>3</td>\n",
       "      <td>162</td>\n",
       "      <td>1</td>\n",
       "      <td>1</td>\n",
       "    </tr>\n",
       "  </tbody>\n",
       "</table>\n",
       "<p>355 rows × 11 columns</p>\n",
       "</div>"
      ],
      "text/plain": [
       "      Unnamed: 0 ctl_loading_date  ctl_loading  string_quantity  \\\n",
       "6              6       2018-04-15  61093947578              422   \n",
       "8              8       2018-04-17  43797555261              424   \n",
       "17            17       2018-04-26  25902764987              428   \n",
       "18            18       2018-04-27  92328498590              428   \n",
       "26            26       2018-05-05  29731994185              426   \n",
       "...          ...              ...          ...              ...   \n",
       "2268        2268       2024-02-21  53098448173              431   \n",
       "2278        2278       2024-02-29   1884005607              424   \n",
       "2279        2279       2024-03-01  62433216496              436   \n",
       "2287        2287       2024-03-08  70519729204              438   \n",
       "2293        2293       2024-03-14   6038571654              422   \n",
       "\n",
       "      duplicated_by_loading  corrections   delay  day_of_week  \\\n",
       "6                         7           26  0 days            6   \n",
       "8                        10           26  0 days            1   \n",
       "17                       14           27  0 days            3   \n",
       "18                       12           27  0 days            4   \n",
       "26                       11           26  0 days            5   \n",
       "...                     ...          ...     ...          ...   \n",
       "2268                     25           31  0 days            2   \n",
       "2278                     25           31  0 days            3   \n",
       "2279                     29           31  0 days            4   \n",
       "2287                     28           32  0 days            4   \n",
       "2293                     26           31  0 days            3   \n",
       "\n",
       "      cumulative_missing_days  rank  outliers  \n",
       "6                           0     1         1  \n",
       "8                           0     1         1  \n",
       "17                          0     1         1  \n",
       "18                          0     1         1  \n",
       "26                          0     1         1  \n",
       "...                       ...   ...       ...  \n",
       "2268                      158     1         1  \n",
       "2278                      158     1         1  \n",
       "2279                      158     1         1  \n",
       "2287                      162     1         1  \n",
       "2293                      162     1         1  \n",
       "\n",
       "[355 rows x 11 columns]"
      ]
     },
     "execution_count": 11,
     "metadata": {},
     "output_type": "execute_result"
    }
   ],
   "source": [
    "data_outliers = data_origin[data_origin['outliers'] == 1]\n",
    "data_outliers"
   ]
  },
  {
   "cell_type": "markdown",
   "metadata": {},
   "source": [
    "## Предварительная обработка данных"
   ]
  },
  {
   "cell_type": "code",
   "execution_count": 12,
   "metadata": {},
   "outputs": [
    {
     "data": {
      "text/plain": [
       "15.475152571926765"
      ]
     },
     "execution_count": 12,
     "metadata": {},
     "output_type": "execute_result"
    }
   ],
   "source": [
    "total_rows = len(data_origin)\n",
    "outliers_rows = len(data_origin[data_origin['outliers'] == 1])\n",
    "\n",
    "percentage_outliers = (outliers_rows / total_rows) * 100\n",
    "percentage_outliers\n",
    "\n",
    "# Процент от общего количества строк, где outliers = 1"
   ]
  },
  {
   "cell_type": "code",
   "execution_count": 13,
   "metadata": {},
   "outputs": [
    {
     "data": {
      "text/plain": [
       "6.756756756756757"
      ]
     },
     "execution_count": 13,
     "metadata": {},
     "output_type": "execute_result"
    }
   ],
   "source": [
    "total_rows = len(data_origin)\n",
    "outliers_rows = len(data_origin[data_origin['outliers'] == 2])\n",
    "\n",
    "percentage_outliers = (outliers_rows / total_rows) * 100\n",
    "percentage_outliers\n",
    "\n",
    "# Процент от общего количества строк, где outliers = 2"
   ]
  },
  {
   "cell_type": "code",
   "execution_count": 14,
   "metadata": {},
   "outputs": [
    {
     "data": {
      "text/plain": [
       "Unnamed: 0                  int64\n",
       "ctl_loading_date           object\n",
       "ctl_loading                 int64\n",
       "string_quantity             int64\n",
       "duplicated_by_loading       int64\n",
       "corrections                 int64\n",
       "delay                      object\n",
       "day_of_week                 int64\n",
       "cumulative_missing_days     int64\n",
       "rank                        int64\n",
       "outliers                    int64\n",
       "dtype: object"
      ]
     },
     "execution_count": 14,
     "metadata": {},
     "output_type": "execute_result"
    }
   ],
   "source": [
    "data_origin.dtypes"
   ]
  },
  {
   "cell_type": "code",
   "execution_count": 15,
   "metadata": {},
   "outputs": [
    {
     "data": {
      "text/plain": [
       "array(['0 days', '1 days', '2 days', '3 days', '4 days', '5 days',\n",
       "       '7 days', '347 days', '115 days', '207 days', '437 days',\n",
       "       '304 days', '250 days', '68 days', '237 days', '485 days',\n",
       "       '133 days', '199 days', '251 days', '8 days', '1051 days',\n",
       "       '695 days', '1171 days', '208 days', '449 days', '716 days',\n",
       "       '827 days', '103 days', '1084 days', '968 days', '1286 days',\n",
       "       '86 days', '253 days', '461 days', '927 days', '404 days',\n",
       "       '731 days', '571 days', '1465 days', '1080 days', '1057 days',\n",
       "       '589 days', '335 days', '952 days', '67 days', '1442 days',\n",
       "       '1459 days', '400 days', '1145 days', '1122 days', '709 days',\n",
       "       '1496 days', '59 days', '322 days', '204 days', '534 days',\n",
       "       '1391 days', '543 days', '1670 days', '926 days', '1434 days',\n",
       "       '330 days', '57 days', '1514 days', '52 days', '1048 days',\n",
       "       '58 days', '131 days', '464 days', '291 days', '35 days',\n",
       "       '1890 days', '541 days', '353 days', '164 days', '29 days',\n",
       "       '93 days', '112 days', '1194 days', '738 days', '1153 days',\n",
       "       '220 days', '128 days', '756 days', '801 days', '91 days',\n",
       "       '408 days', '1339 days', '119 days', '1263 days', '36 days',\n",
       "       '1312 days', '145 days', '139 days', '356 days', '494 days',\n",
       "       '19 days', '179 days'], dtype=object)"
      ]
     },
     "execution_count": 15,
     "metadata": {},
     "output_type": "execute_result"
    }
   ],
   "source": [
    "data_origin['delay'].unique()\n",
    "# Очень много уникальных значений, лучше уберем этот атрибут. Еще уберем дату и уникальные айди у пакетов. И первый атрибут с индексом."
   ]
  },
  {
   "cell_type": "code",
   "execution_count": 16,
   "metadata": {},
   "outputs": [
    {
     "data": {
      "text/html": [
       "<div>\n",
       "<style scoped>\n",
       "    .dataframe tbody tr th:only-of-type {\n",
       "        vertical-align: middle;\n",
       "    }\n",
       "\n",
       "    .dataframe tbody tr th {\n",
       "        vertical-align: top;\n",
       "    }\n",
       "\n",
       "    .dataframe thead th {\n",
       "        text-align: right;\n",
       "    }\n",
       "</style>\n",
       "<table border=\"1\" class=\"dataframe\">\n",
       "  <thead>\n",
       "    <tr style=\"text-align: right;\">\n",
       "      <th></th>\n",
       "      <th>string_quantity</th>\n",
       "      <th>duplicated_by_loading</th>\n",
       "      <th>corrections</th>\n",
       "      <th>day_of_week</th>\n",
       "      <th>cumulative_missing_days</th>\n",
       "      <th>rank</th>\n",
       "      <th>outliers</th>\n",
       "    </tr>\n",
       "  </thead>\n",
       "  <tbody>\n",
       "    <tr>\n",
       "      <th>0</th>\n",
       "      <td>435</td>\n",
       "      <td>12</td>\n",
       "      <td>28</td>\n",
       "      <td>0</td>\n",
       "      <td>0</td>\n",
       "      <td>1</td>\n",
       "      <td>0</td>\n",
       "    </tr>\n",
       "    <tr>\n",
       "      <th>1</th>\n",
       "      <td>476</td>\n",
       "      <td>7</td>\n",
       "      <td>31</td>\n",
       "      <td>1</td>\n",
       "      <td>0</td>\n",
       "      <td>1</td>\n",
       "      <td>0</td>\n",
       "    </tr>\n",
       "    <tr>\n",
       "      <th>2</th>\n",
       "      <td>458</td>\n",
       "      <td>12</td>\n",
       "      <td>30</td>\n",
       "      <td>2</td>\n",
       "      <td>0</td>\n",
       "      <td>1</td>\n",
       "      <td>0</td>\n",
       "    </tr>\n",
       "    <tr>\n",
       "      <th>3</th>\n",
       "      <td>443</td>\n",
       "      <td>10</td>\n",
       "      <td>29</td>\n",
       "      <td>3</td>\n",
       "      <td>0</td>\n",
       "      <td>1</td>\n",
       "      <td>0</td>\n",
       "    </tr>\n",
       "    <tr>\n",
       "      <th>4</th>\n",
       "      <td>458</td>\n",
       "      <td>10</td>\n",
       "      <td>30</td>\n",
       "      <td>4</td>\n",
       "      <td>0</td>\n",
       "      <td>1</td>\n",
       "      <td>0</td>\n",
       "    </tr>\n",
       "  </tbody>\n",
       "</table>\n",
       "</div>"
      ],
      "text/plain": [
       "   string_quantity  duplicated_by_loading  corrections  day_of_week  \\\n",
       "0              435                     12           28            0   \n",
       "1              476                      7           31            1   \n",
       "2              458                     12           30            2   \n",
       "3              443                     10           29            3   \n",
       "4              458                     10           30            4   \n",
       "\n",
       "   cumulative_missing_days  rank  outliers  \n",
       "0                        0     1         0  \n",
       "1                        0     1         0  \n",
       "2                        0     1         0  \n",
       "3                        0     1         0  \n",
       "4                        0     1         0  "
      ]
     },
     "execution_count": 16,
     "metadata": {},
     "output_type": "execute_result"
    }
   ],
   "source": [
    "df_finished = data_origin.drop(['delay', 'ctl_loading_date', 'Unnamed: 0', 'ctl_loading'], axis=1)\n",
    "df_finished.head(5)"
   ]
  },
  {
   "cell_type": "code",
   "execution_count": 17,
   "metadata": {},
   "outputs": [
    {
     "data": {
      "text/plain": [
       "string_quantity            int64\n",
       "duplicated_by_loading      int64\n",
       "corrections                int64\n",
       "day_of_week                int64\n",
       "cumulative_missing_days    int64\n",
       "rank                       int64\n",
       "outliers                   int64\n",
       "dtype: object"
      ]
     },
     "execution_count": 17,
     "metadata": {},
     "output_type": "execute_result"
    }
   ],
   "source": [
    "df_finished.dtypes"
   ]
  },
  {
   "cell_type": "code",
   "execution_count": 18,
   "metadata": {},
   "outputs": [
    {
     "data": {
      "text/plain": [
       "numpy.ndarray"
      ]
     },
     "execution_count": 18,
     "metadata": {},
     "output_type": "execute_result"
    }
   ],
   "source": [
    "# приведем все независимые переменные к единому масштабу\n",
    "\n",
    "# снова создадим датафрейм без целевой переменной\n",
    "df_finished_wihout_target = df_finished.drop(['outliers'], axis=1)\n",
    "\n",
    "# импортируем необходимый класс из модуля preprocessing библиотеки sklearn\n",
    "from sklearn.preprocessing import StandardScaler\n",
    "\n",
    "# создадим объект этого класса\n",
    "scaler = StandardScaler()\n",
    "\n",
    "# приведем данные к единому масштабу\n",
    "scaled_data = scaler.fit_transform(df_finished_wihout_target)\n",
    "\n",
    "# на выходе получается массив Numpy\n",
    "type(scaled_data)"
   ]
  },
  {
   "cell_type": "code",
   "execution_count": 19,
   "metadata": {},
   "outputs": [
    {
     "data": {
      "text/html": [
       "<div>\n",
       "<style scoped>\n",
       "    .dataframe tbody tr th:only-of-type {\n",
       "        vertical-align: middle;\n",
       "    }\n",
       "\n",
       "    .dataframe tbody tr th {\n",
       "        vertical-align: top;\n",
       "    }\n",
       "\n",
       "    .dataframe thead th {\n",
       "        text-align: right;\n",
       "    }\n",
       "</style>\n",
       "<table border=\"1\" class=\"dataframe\">\n",
       "  <thead>\n",
       "    <tr style=\"text-align: right;\">\n",
       "      <th></th>\n",
       "      <th>string_quantity</th>\n",
       "      <th>duplicated_by_loading</th>\n",
       "      <th>corrections</th>\n",
       "      <th>day_of_week</th>\n",
       "      <th>cumulative_missing_days</th>\n",
       "      <th>rank</th>\n",
       "      <th>outliers</th>\n",
       "    </tr>\n",
       "  </thead>\n",
       "  <tbody>\n",
       "    <tr>\n",
       "      <th>0</th>\n",
       "      <td>0.014940</td>\n",
       "      <td>-1.176918</td>\n",
       "      <td>-0.350345</td>\n",
       "      <td>-1.500302</td>\n",
       "      <td>-1.533535</td>\n",
       "      <td>-0.316894</td>\n",
       "      <td>0</td>\n",
       "    </tr>\n",
       "    <tr>\n",
       "      <th>1</th>\n",
       "      <td>0.435143</td>\n",
       "      <td>-1.868443</td>\n",
       "      <td>0.177358</td>\n",
       "      <td>-1.000709</td>\n",
       "      <td>-1.533535</td>\n",
       "      <td>-0.316894</td>\n",
       "      <td>0</td>\n",
       "    </tr>\n",
       "  </tbody>\n",
       "</table>\n",
       "</div>"
      ],
      "text/plain": [
       "   string_quantity  duplicated_by_loading  corrections  day_of_week  \\\n",
       "0         0.014940              -1.176918    -0.350345    -1.500302   \n",
       "1         0.435143              -1.868443     0.177358    -1.000709   \n",
       "\n",
       "   cumulative_missing_days      rank  outliers  \n",
       "0                -1.533535 -0.316894         0  \n",
       "1                -1.533535 -0.316894         0  "
      ]
     },
     "execution_count": 19,
     "metadata": {},
     "output_type": "execute_result"
    }
   ],
   "source": [
    "# преобразуем scaled_data обратно в датафрейм\n",
    "df_scaled = pd.DataFrame(scaled_data, columns = df_finished_wihout_target.columns)\n",
    "\n",
    "# вновь добавим целевую переменную outliers\n",
    "df_scaled['outliers'] = df_finished.outliers\n",
    "\n",
    "# посмотрим на результат (только два первых значения)\n",
    "df_scaled.head(2)"
   ]
  },
  {
   "cell_type": "code",
   "execution_count": 20,
   "metadata": {},
   "outputs": [
    {
     "data": {
      "text/html": [
       "<div>\n",
       "<style scoped>\n",
       "    .dataframe tbody tr th:only-of-type {\n",
       "        vertical-align: middle;\n",
       "    }\n",
       "\n",
       "    .dataframe tbody tr th {\n",
       "        vertical-align: top;\n",
       "    }\n",
       "\n",
       "    .dataframe thead th {\n",
       "        text-align: right;\n",
       "    }\n",
       "</style>\n",
       "<table border=\"1\" class=\"dataframe\">\n",
       "  <thead>\n",
       "    <tr style=\"text-align: right;\">\n",
       "      <th></th>\n",
       "      <th>string_quantity</th>\n",
       "      <th>duplicated_by_loading</th>\n",
       "      <th>corrections</th>\n",
       "      <th>day_of_week</th>\n",
       "      <th>cumulative_missing_days</th>\n",
       "      <th>rank</th>\n",
       "      <th>outliers</th>\n",
       "    </tr>\n",
       "  </thead>\n",
       "  <tbody>\n",
       "    <tr>\n",
       "      <th>count</th>\n",
       "      <td>2294.00</td>\n",
       "      <td>2294.00</td>\n",
       "      <td>2294.00</td>\n",
       "      <td>2294.0</td>\n",
       "      <td>2294.00</td>\n",
       "      <td>2294.00</td>\n",
       "      <td>2294.00</td>\n",
       "    </tr>\n",
       "    <tr>\n",
       "      <th>mean</th>\n",
       "      <td>0.00</td>\n",
       "      <td>0.00</td>\n",
       "      <td>0.00</td>\n",
       "      <td>-0.0</td>\n",
       "      <td>-0.00</td>\n",
       "      <td>-0.00</td>\n",
       "      <td>0.29</td>\n",
       "    </tr>\n",
       "    <tr>\n",
       "      <th>std</th>\n",
       "      <td>1.00</td>\n",
       "      <td>1.00</td>\n",
       "      <td>1.00</td>\n",
       "      <td>1.0</td>\n",
       "      <td>1.00</td>\n",
       "      <td>1.00</td>\n",
       "      <td>0.58</td>\n",
       "    </tr>\n",
       "    <tr>\n",
       "      <th>min</th>\n",
       "      <td>-4.43</td>\n",
       "      <td>-2.84</td>\n",
       "      <td>-5.28</td>\n",
       "      <td>-1.5</td>\n",
       "      <td>-1.53</td>\n",
       "      <td>-0.32</td>\n",
       "      <td>0.00</td>\n",
       "    </tr>\n",
       "    <tr>\n",
       "      <th>25%</th>\n",
       "      <td>0.08</td>\n",
       "      <td>-0.49</td>\n",
       "      <td>-0.35</td>\n",
       "      <td>-1.0</td>\n",
       "      <td>-0.99</td>\n",
       "      <td>-0.32</td>\n",
       "      <td>0.00</td>\n",
       "    </tr>\n",
       "    <tr>\n",
       "      <th>50%</th>\n",
       "      <td>0.25</td>\n",
       "      <td>0.21</td>\n",
       "      <td>0.00</td>\n",
       "      <td>-0.0</td>\n",
       "      <td>-0.05</td>\n",
       "      <td>-0.32</td>\n",
       "      <td>0.00</td>\n",
       "    </tr>\n",
       "    <tr>\n",
       "      <th>75%</th>\n",
       "      <td>0.33</td>\n",
       "      <td>0.76</td>\n",
       "      <td>0.71</td>\n",
       "      <td>1.0</td>\n",
       "      <td>1.06</td>\n",
       "      <td>-0.32</td>\n",
       "      <td>0.00</td>\n",
       "    </tr>\n",
       "    <tr>\n",
       "      <th>max</th>\n",
       "      <td>0.65</td>\n",
       "      <td>1.73</td>\n",
       "      <td>5.63</td>\n",
       "      <td>1.5</td>\n",
       "      <td>1.62</td>\n",
       "      <td>7.06</td>\n",
       "      <td>2.00</td>\n",
       "    </tr>\n",
       "  </tbody>\n",
       "</table>\n",
       "</div>"
      ],
      "text/plain": [
       "       string_quantity  duplicated_by_loading  corrections  day_of_week  \\\n",
       "count          2294.00                2294.00      2294.00       2294.0   \n",
       "mean              0.00                   0.00         0.00         -0.0   \n",
       "std               1.00                   1.00         1.00          1.0   \n",
       "min              -4.43                  -2.84        -5.28         -1.5   \n",
       "25%               0.08                  -0.49        -0.35         -1.0   \n",
       "50%               0.25                   0.21         0.00         -0.0   \n",
       "75%               0.33                   0.76         0.71          1.0   \n",
       "max               0.65                   1.73         5.63          1.5   \n",
       "\n",
       "       cumulative_missing_days     rank  outliers  \n",
       "count                  2294.00  2294.00   2294.00  \n",
       "mean                     -0.00    -0.00      0.29  \n",
       "std                       1.00     1.00      0.58  \n",
       "min                      -1.53    -0.32      0.00  \n",
       "25%                      -0.99    -0.32      0.00  \n",
       "50%                      -0.05    -0.32      0.00  \n",
       "75%                       1.06    -0.32      0.00  \n",
       "max                       1.62     7.06      2.00  "
      ]
     },
     "execution_count": 20,
     "metadata": {},
     "output_type": "execute_result"
    }
   ],
   "source": [
    "# а также на основные статистическое показатели (масштаб должен быть другим!)\n",
    "df_scaled.describe().round(2)"
   ]
  },
  {
   "cell_type": "markdown",
   "metadata": {},
   "source": [
    "## Исследовательский анализ данных"
   ]
  },
  {
   "cell_type": "markdown",
   "metadata": {},
   "source": [
    "#### Найдем признаки с наибольшими отличиями в зависимости от значения целевой переменной"
   ]
  },
  {
   "cell_type": "code",
   "execution_count": 21,
   "metadata": {},
   "outputs": [
    {
     "data": {
      "text/html": [
       "<div>\n",
       "<style scoped>\n",
       "    .dataframe tbody tr th:only-of-type {\n",
       "        vertical-align: middle;\n",
       "    }\n",
       "\n",
       "    .dataframe tbody tr th {\n",
       "        vertical-align: top;\n",
       "    }\n",
       "\n",
       "    .dataframe thead th {\n",
       "        text-align: right;\n",
       "    }\n",
       "</style>\n",
       "<table border=\"1\" class=\"dataframe\">\n",
       "  <thead>\n",
       "    <tr style=\"text-align: right;\">\n",
       "      <th>outliers</th>\n",
       "      <th>0</th>\n",
       "      <th>1</th>\n",
       "      <th>2</th>\n",
       "    </tr>\n",
       "  </thead>\n",
       "  <tbody>\n",
       "    <tr>\n",
       "      <th>string_quantity</th>\n",
       "      <td>0.309934</td>\n",
       "      <td>-0.257362</td>\n",
       "      <td>-2.977795</td>\n",
       "    </tr>\n",
       "    <tr>\n",
       "      <th>duplicated_by_loading</th>\n",
       "      <td>0.179462</td>\n",
       "      <td>-0.056843</td>\n",
       "      <td>-1.935365</td>\n",
       "    </tr>\n",
       "    <tr>\n",
       "      <th>corrections</th>\n",
       "      <td>0.264125</td>\n",
       "      <td>-0.670930</td>\n",
       "      <td>-1.503347</td>\n",
       "    </tr>\n",
       "    <tr>\n",
       "      <th>day_of_week</th>\n",
       "      <td>-0.002365</td>\n",
       "      <td>-0.021227</td>\n",
       "      <td>0.075832</td>\n",
       "    </tr>\n",
       "    <tr>\n",
       "      <th>cumulative_missing_days</th>\n",
       "      <td>-0.101290</td>\n",
       "      <td>0.245182</td>\n",
       "      <td>0.604268</td>\n",
       "    </tr>\n",
       "    <tr>\n",
       "      <th>rank</th>\n",
       "      <td>-0.080503</td>\n",
       "      <td>-0.316894</td>\n",
       "      <td>1.652347</td>\n",
       "    </tr>\n",
       "  </tbody>\n",
       "</table>\n",
       "</div>"
      ],
      "text/plain": [
       "outliers                        0         1         2\n",
       "string_quantity          0.309934 -0.257362 -2.977795\n",
       "duplicated_by_loading    0.179462 -0.056843 -1.935365\n",
       "corrections              0.264125 -0.670930 -1.503347\n",
       "day_of_week             -0.002365 -0.021227  0.075832\n",
       "cumulative_missing_days -0.101290  0.245182  0.604268\n",
       "rank                    -0.080503 -0.316894  1.652347"
      ]
     },
     "execution_count": 21,
     "metadata": {},
     "output_type": "execute_result"
    }
   ],
   "source": [
    "# сгруппируем данные по целевой переменной, рассчитаем среднее и перевернем (транспонируем) наш датафрейм\n",
    "# все это последовательно делается с помощью group_by, mean() и .T\n",
    "data = df_scaled.groupby('outliers').mean().T\n",
    "\n",
    "# значения, чтобы убедиться в верности результата\n",
    "data.head(6)"
   ]
  },
  {
   "cell_type": "code",
   "execution_count": 22,
   "metadata": {},
   "outputs": [
    {
     "data": {
      "text/html": [
       "<div>\n",
       "<style scoped>\n",
       "    .dataframe tbody tr th:only-of-type {\n",
       "        vertical-align: middle;\n",
       "    }\n",
       "\n",
       "    .dataframe tbody tr th {\n",
       "        vertical-align: top;\n",
       "    }\n",
       "\n",
       "    .dataframe thead th {\n",
       "        text-align: right;\n",
       "    }\n",
       "</style>\n",
       "<table border=\"1\" class=\"dataframe\">\n",
       "  <thead>\n",
       "    <tr style=\"text-align: right;\">\n",
       "      <th>outliers</th>\n",
       "      <th>0</th>\n",
       "      <th>1</th>\n",
       "      <th>2</th>\n",
       "      <th>diff</th>\n",
       "    </tr>\n",
       "  </thead>\n",
       "  <tbody>\n",
       "    <tr>\n",
       "      <th>corrections</th>\n",
       "      <td>0.264125</td>\n",
       "      <td>-0.670930</td>\n",
       "      <td>-1.503347</td>\n",
       "      <td>0.935055</td>\n",
       "    </tr>\n",
       "    <tr>\n",
       "      <th>string_quantity</th>\n",
       "      <td>0.309934</td>\n",
       "      <td>-0.257362</td>\n",
       "      <td>-2.977795</td>\n",
       "      <td>0.567296</td>\n",
       "    </tr>\n",
       "    <tr>\n",
       "      <th>cumulative_missing_days</th>\n",
       "      <td>-0.101290</td>\n",
       "      <td>0.245182</td>\n",
       "      <td>0.604268</td>\n",
       "      <td>0.346472</td>\n",
       "    </tr>\n",
       "    <tr>\n",
       "      <th>rank</th>\n",
       "      <td>-0.080503</td>\n",
       "      <td>-0.316894</td>\n",
       "      <td>1.652347</td>\n",
       "      <td>0.236391</td>\n",
       "    </tr>\n",
       "    <tr>\n",
       "      <th>duplicated_by_loading</th>\n",
       "      <td>0.179462</td>\n",
       "      <td>-0.056843</td>\n",
       "      <td>-1.935365</td>\n",
       "      <td>0.236306</td>\n",
       "    </tr>\n",
       "    <tr>\n",
       "      <th>day_of_week</th>\n",
       "      <td>-0.002365</td>\n",
       "      <td>-0.021227</td>\n",
       "      <td>0.075832</td>\n",
       "      <td>0.018862</td>\n",
       "    </tr>\n",
       "  </tbody>\n",
       "</table>\n",
       "</div>"
      ],
      "text/plain": [
       "outliers                        0         1         2      diff\n",
       "corrections              0.264125 -0.670930 -1.503347  0.935055\n",
       "string_quantity          0.309934 -0.257362 -2.977795  0.567296\n",
       "cumulative_missing_days -0.101290  0.245182  0.604268  0.346472\n",
       "rank                    -0.080503 -0.316894  1.652347  0.236391\n",
       "duplicated_by_loading    0.179462 -0.056843 -1.935365  0.236306\n",
       "day_of_week             -0.002365 -0.021227  0.075832  0.018862"
      ]
     },
     "execution_count": 22,
     "metadata": {},
     "output_type": "execute_result"
    }
   ],
   "source": [
    "# вычтем одну колонку из другой и вычислим модуль\n",
    "data['diff'] = abs(data.iloc[:, 0] - data.iloc[:, 1])\n",
    "\n",
    "# остается отсортировать наш датафрейм по столбцу разницы средних в нисходящем порядке\n",
    "data = data.sort_values(by = ['diff'], ascending = False)\n",
    "\n",
    "# и вывести те значения, где разница наиболее существенная\n",
    "data.head(6)"
   ]
  },
  {
   "cell_type": "code",
   "execution_count": 23,
   "metadata": {},
   "outputs": [
    {
     "data": {
      "text/plain": [
       "Text(0.5, 1.0, 'Распределение corrections для трех типов поставок')"
      ]
     },
     "execution_count": 23,
     "metadata": {},
     "output_type": "execute_result"
    },
    {
     "data": {
      "image/png": "[encoded data removed]",
      "text/plain": [
       "<Figure size 1000x600 with 1 Axes>"
      ]
     },
     "metadata": {},
     "output_type": "display_data"
    }
   ],
   "source": [
    "# задаем количество интервалов\n",
    "bins = 17\n",
    "\n",
    "# и размер графика\n",
    "plt.figure(figsize = (10,6))\n",
    "\n",
    "# из датафрейма df_scaled выберем столбец 'corrections'\n",
    "# и только те строки, где outliers == 0 (норм)\n",
    "plt.hist(df_scaled.loc[df_scaled['outliers'] == 0, 'corrections'], bins, alpha = 0.5, label = 'Норм')\n",
    "\n",
    "# то же самое, но outliers == 1 (выброс)\n",
    "plt.hist(df_scaled.loc[df_scaled['outliers'] == 1, 'corrections'], bins, alpha = 0.5, label = 'Выброс 1')\n",
    "plt.legend(loc = 'upper right')\n",
    "\n",
    "# то же самое, но outliers == 2 (выброс)\n",
    "plt.hist(df_scaled.loc[df_scaled['outliers'] == 2, 'corrections'], bins, alpha = 0.5, label = 'Выброс 2')\n",
    "plt.legend(loc = 'upper right')\n",
    "\n",
    "# добавим подписи и размер шрифта\n",
    "plt.xlabel('corrections', fontsize = 16)\n",
    "plt.ylabel('Количество наблюдений', fontsize = 16)\n",
    "plt.title('Распределение corrections для трех типов поставок', fontsize = 16)"
   ]
  },
  {
   "cell_type": "markdown",
   "metadata": {},
   "source": [
    "## Отбор и выделение признаков"
   ]
  },
  {
   "cell_type": "markdown",
   "metadata": {},
   "source": [
    "#### Поместим наши признаки в переменную X, а классы в переменную y"
   ]
  },
  {
   "cell_type": "code",
   "execution_count": 24,
   "metadata": {},
   "outputs": [
    {
     "name": "stdout",
     "output_type": "stream",
     "text": [
      "['corrections', 'string_quantity', 'cumulative_missing_days', 'rank', 'duplicated_by_loading', 'day_of_week']\n"
     ]
    }
   ],
   "source": [
    "# для этого возьмем названия признаков из индекса нашего вспомогательного датафрейма data,\n",
    "# преобразуем их в список и сделаем срез по первым 10 значениям\n",
    "features = list(data.index[:6])\n",
    "print(features)"
   ]
  },
  {
   "cell_type": "code",
   "execution_count": 25,
   "metadata": {},
   "outputs": [],
   "source": [
    "# теперь отфильтруем исходный датафрейм df_scaled по этим признакам\n",
    "X = df_scaled[features]\n",
    "\n",
    "# а в переменную y запишем классы\n",
    "y = df_scaled['outliers']"
   ]
  },
  {
   "cell_type": "markdown",
   "metadata": {},
   "source": [
    "## Обучение и оценка качества модели"
   ]
  },
  {
   "cell_type": "markdown",
   "metadata": {},
   "source": [
    "#### Разделение на обучающую и тестовую выборки"
   ]
  },
  {
   "cell_type": "code",
   "execution_count": 26,
   "metadata": {},
   "outputs": [],
   "source": [
    "# импортируем необходимый модуль\n",
    "from sklearn.model_selection import train_test_split\n",
    "\n",
    "# размер тестовой выборки составит 30%\n",
    "# также зададим точку отсчета для воспроизводимости результата\n",
    "X_train, X_test, y_train, y_test = train_test_split(X, y,\n",
    "                                                    test_size = 0.3,\n",
    "                                                    random_state = 42)"
   ]
  },
  {
   "cell_type": "markdown",
   "metadata": {},
   "source": [
    "#### Обучение модели и прогноз"
   ]
  },
  {
   "cell_type": "code",
   "execution_count": 27,
   "metadata": {},
   "outputs": [],
   "source": [
    "# импортируем логистическую регрессию из модуля linear_model библиотеки sklearn\n",
    "from sklearn.linear_model import LogisticRegression"
   ]
  },
  {
   "cell_type": "code",
   "execution_count": 28,
   "metadata": {},
   "outputs": [
    {
     "data": {
      "text/html": [
       "<style>#sk-container-id-1 {color: black;}#sk-container-id-1 pre{padding: 0;}#sk-container-id-1 div.sk-toggleable {background-color: white;}#sk-container-id-1 label.sk-toggleable__label {cursor: pointer;display: block;width: 100%;margin-bottom: 0;padding: 0.3em;box-sizing: border-box;text-align: center;}#sk-container-id-1 label.sk-toggleable__label-arrow:before {content: \"▸\";float: left;margin-right: 0.25em;color: #696969;}#sk-container-id-1 label.sk-toggleable__label-arrow:hover:before {color: black;}#sk-container-id-1 div.sk-estimator:hover label.sk-toggleable__label-arrow:before {color: black;}#sk-container-id-1 div.sk-toggleable__content {max-height: 0;max-width: 0;overflow: hidden;text-align: left;background-color: #f0f8ff;}#sk-container-id-1 div.sk-toggleable__content pre {margin: 0.2em;color: black;border-radius: 0.25em;background-color: #f0f8ff;}#sk-container-id-1 input.sk-toggleable__control:checked~div.sk-toggleable__content {max-height: 200px;max-width: 100%;overflow: auto;}#sk-container-id-1 input.sk-toggleable__control:checked~label.sk-toggleable__label-arrow:before {content: \"▾\";}#sk-container-id-1 div.sk-estimator input.sk-toggleable__control:checked~label.sk-toggleable__label {background-color: #d4ebff;}#sk-container-id-1 div.sk-label input.sk-toggleable__control:checked~label.sk-toggleable__label {background-color: #d4ebff;}#sk-container-id-1 input.sk-hidden--visually {border: 0;clip: rect(1px 1px 1px 1px);clip: rect(1px, 1px, 1px, 1px);height: 1px;margin: -1px;overflow: hidden;padding: 0;position: absolute;width: 1px;}#sk-container-id-1 div.sk-estimator {font-family: monospace;background-color: #f0f8ff;border: 1px dotted black;border-radius: 0.25em;box-sizing: border-box;margin-bottom: 0.5em;}#sk-container-id-1 div.sk-estimator:hover {background-color: #d4ebff;}#sk-container-id-1 div.sk-parallel-item::after {content: \"\";width: 100%;border-bottom: 1px solid gray;flex-grow: 1;}#sk-container-id-1 div.sk-label:hover label.sk-toggleable__label {background-color: #d4ebff;}#sk-container-id-1 div.sk-serial::before {content: \"\";position: absolute;border-left: 1px solid gray;box-sizing: border-box;top: 0;bottom: 0;left: 50%;z-index: 0;}#sk-container-id-1 div.sk-serial {display: flex;flex-direction: column;align-items: center;background-color: white;padding-right: 0.2em;padding-left: 0.2em;position: relative;}#sk-container-id-1 div.sk-item {position: relative;z-index: 1;}#sk-container-id-1 div.sk-parallel {display: flex;align-items: stretch;justify-content: center;background-color: white;position: relative;}#sk-container-id-1 div.sk-item::before, #sk-container-id-1 div.sk-parallel-item::before {content: \"\";position: absolute;border-left: 1px solid gray;box-sizing: border-box;top: 0;bottom: 0;left: 50%;z-index: -1;}#sk-container-id-1 div.sk-parallel-item {display: flex;flex-direction: column;z-index: 1;position: relative;background-color: white;}#sk-container-id-1 div.sk-parallel-item:first-child::after {align-self: flex-end;width: 50%;}#sk-container-id-1 div.sk-parallel-item:last-child::after {align-self: flex-start;width: 50%;}#sk-container-id-1 div.sk-parallel-item:only-child::after {width: 0;}#sk-container-id-1 div.sk-dashed-wrapped {border: 1px dashed gray;margin: 0 0.4em 0.5em 0.4em;box-sizing: border-box;padding-bottom: 0.4em;background-color: white;}#sk-container-id-1 div.sk-label label {font-family: monospace;font-weight: bold;display: inline-block;line-height: 1.2em;}#sk-container-id-1 div.sk-label-container {text-align: center;}#sk-container-id-1 div.sk-container {/* jupyter's `normalize.less` sets `[hidden] { display: none; }` but bootstrap.min.css set `[hidden] { display: none !important; }` so we also need the `!important` here to be able to override the default hidden behavior on the sphinx rendered scikit-learn.org. See: https://github.com/scikit-learn/scikit-learn/issues/21755 */display: inline-block !important;position: relative;}#sk-container-id-1 div.sk-text-repr-fallback {display: none;}</style><div id=\"sk-container-id-1\" class=\"sk-top-container\"><div class=\"sk-text-repr-fallback\"><pre>LogisticRegression()</pre><b>In a Jupyter environment, please rerun this cell to show the HTML representation or trust the notebook. <br />On GitHub, the HTML representation is unable to render, please try loading this page with nbviewer.org.</b></div><div class=\"sk-container\" hidden><div class=\"sk-item\"><div class=\"sk-estimator sk-toggleable\"><input class=\"sk-toggleable__control sk-hidden--visually\" id=\"sk-estimator-id-1\" type=\"checkbox\" checked><label for=\"sk-estimator-id-1\" class=\"sk-toggleable__label sk-toggleable__label-arrow\">LogisticRegression</label><div class=\"sk-toggleable__content\"><pre>LogisticRegression()</pre></div></div></div></div></div>"
      ],
      "text/plain": [
       "LogisticRegression()"
      ]
     },
     "execution_count": 28,
     "metadata": {},
     "output_type": "execute_result"
    }
   ],
   "source": [
    "# создадим объект этого класса и запишем его в переменную model\n",
    "model = LogisticRegression()\n",
    "\n",
    "# обучим нашу модель\n",
    "model.fit(X_train, y_train)"
   ]
  },
  {
   "cell_type": "code",
   "execution_count": 29,
   "metadata": {},
   "outputs": [
    {
     "name": "stdout",
     "output_type": "stream",
     "text": [
      "214\n"
     ]
    }
   ],
   "source": [
    "num_outliers = np.sum(y_test)\n",
    "print(num_outliers)"
   ]
  },
  {
   "cell_type": "code",
   "execution_count": 30,
   "metadata": {},
   "outputs": [
    {
     "name": "stdout",
     "output_type": "stream",
     "text": [
      "451\n"
     ]
    }
   ],
   "source": [
    "num_outliers = np.sum(y_train)\n",
    "print(num_outliers)"
   ]
  },
  {
   "cell_type": "code",
   "execution_count": 31,
   "metadata": {},
   "outputs": [],
   "source": [
    "# выполним предсказание класса на тестовой выборке\n",
    "y_pred = model.predict(X_test)"
   ]
  },
  {
   "cell_type": "markdown",
   "metadata": {},
   "source": [
    "#### Оценка качества модели"
   ]
  },
  {
   "cell_type": "code",
   "execution_count": 32,
   "metadata": {},
   "outputs": [
    {
     "data": {
      "text/html": [
       "<div>\n",
       "<style scoped>\n",
       "    .dataframe tbody tr th:only-of-type {\n",
       "        vertical-align: middle;\n",
       "    }\n",
       "\n",
       "    .dataframe tbody tr th {\n",
       "        vertical-align: top;\n",
       "    }\n",
       "\n",
       "    .dataframe thead th {\n",
       "        text-align: right;\n",
       "    }\n",
       "</style>\n",
       "<table border=\"1\" class=\"dataframe\">\n",
       "  <thead>\n",
       "    <tr style=\"text-align: right;\">\n",
       "      <th></th>\n",
       "      <th>0</th>\n",
       "      <th>1</th>\n",
       "      <th>2</th>\n",
       "    </tr>\n",
       "  </thead>\n",
       "  <tbody>\n",
       "    <tr>\n",
       "      <th>0</th>\n",
       "      <td>526</td>\n",
       "      <td>4</td>\n",
       "      <td>0</td>\n",
       "    </tr>\n",
       "    <tr>\n",
       "      <th>1</th>\n",
       "      <td>16</td>\n",
       "      <td>88</td>\n",
       "      <td>0</td>\n",
       "    </tr>\n",
       "    <tr>\n",
       "      <th>2</th>\n",
       "      <td>3</td>\n",
       "      <td>0</td>\n",
       "      <td>52</td>\n",
       "    </tr>\n",
       "  </tbody>\n",
       "</table>\n",
       "</div>"
      ],
      "text/plain": [
       "     0   1   2\n",
       "0  526   4   0\n",
       "1   16  88   0\n",
       "2    3   0  52"
      ]
     },
     "execution_count": 32,
     "metadata": {},
     "output_type": "execute_result"
    }
   ],
   "source": [
    "# построим матрицу ошибок\n",
    "from sklearn.metrics import confusion_matrix\n",
    "\n",
    "# передадим ей тестовые и прогнозные значения\n",
    "model_matrix = confusion_matrix(y_test, y_pred, labels = [0, 1, 2])\n",
    "\n",
    "# для удобства создадим датафрейм\n",
    "model_matrix_df = pd.DataFrame(model_matrix)\n",
    "model_matrix_df"
   ]
  },
  {
   "cell_type": "code",
   "execution_count": 33,
   "metadata": {},
   "outputs": [
    {
     "data": {
      "text/html": [
       "<div>\n",
       "<style scoped>\n",
       "    .dataframe tbody tr th:only-of-type {\n",
       "        vertical-align: middle;\n",
       "    }\n",
       "\n",
       "    .dataframe tbody tr th {\n",
       "        vertical-align: top;\n",
       "    }\n",
       "\n",
       "    .dataframe thead th {\n",
       "        text-align: right;\n",
       "    }\n",
       "</style>\n",
       "<table border=\"1\" class=\"dataframe\">\n",
       "  <thead>\n",
       "    <tr style=\"text-align: right;\">\n",
       "      <th></th>\n",
       "      <th>Прогноз норм</th>\n",
       "      <th>Прогноз выброс 1</th>\n",
       "      <th>Прогноз выброс 2</th>\n",
       "    </tr>\n",
       "  </thead>\n",
       "  <tbody>\n",
       "    <tr>\n",
       "      <th>Факт норм</th>\n",
       "      <td>526</td>\n",
       "      <td>4</td>\n",
       "      <td>0</td>\n",
       "    </tr>\n",
       "    <tr>\n",
       "      <th>Факт выброс 1</th>\n",
       "      <td>16</td>\n",
       "      <td>88</td>\n",
       "      <td>0</td>\n",
       "    </tr>\n",
       "    <tr>\n",
       "      <th>Факт выброс 2</th>\n",
       "      <td>3</td>\n",
       "      <td>0</td>\n",
       "      <td>52</td>\n",
       "    </tr>\n",
       "  </tbody>\n",
       "</table>\n",
       "</div>"
      ],
      "text/plain": [
       "               Прогноз норм  Прогноз выброс 1  Прогноз выброс 2\n",
       "Факт норм               526                 4                 0\n",
       "Факт выброс 1            16                88                 0\n",
       "Факт выброс 2             3                 0                52"
      ]
     },
     "execution_count": 33,
     "metadata": {},
     "output_type": "execute_result"
    }
   ],
   "source": [
    "# добавим подписи к столбцам и строкам через параметры columns и index\n",
    "# столбец - это прогноз, строка - фактическое значение\n",
    "# 0 - норм, 1 - выброс \n",
    "model_matrix_df = pd.DataFrame(model_matrix, columns = ['Прогноз норм', 'Прогноз выброс 1', 'Прогноз выброс 2'], index = ['Факт норм', 'Факт выброс 1', 'Факт выброс 2'])\n",
    "model_matrix_df"
   ]
  },
  {
   "cell_type": "code",
   "execution_count": 34,
   "metadata": {},
   "outputs": [
    {
     "data": {
      "text/plain": [
       "(array([0, 1, 2], dtype=int64), array([545,  92,  52], dtype=int64))"
      ]
     },
     "execution_count": 34,
     "metadata": {},
     "output_type": "execute_result"
    }
   ],
   "source": [
    "# убедимся, что матрица верна\n",
    "# посчитаем сколько было предсказанных значений (см. на столбцы)\n",
    "# 0, 1 и 2 как в исходном датафрейме\n",
    "unique, counts = np.unique(y_pred, return_counts = True)\n",
    "unique, counts"
   ]
  },
  {
   "cell_type": "code",
   "execution_count": 35,
   "metadata": {},
   "outputs": [
    {
     "data": {
      "text/plain": [
       "(array([0, 1, 2], dtype=int64), array([530, 104,  55], dtype=int64))"
      ]
     },
     "execution_count": 35,
     "metadata": {},
     "output_type": "execute_result"
    }
   ],
   "source": [
    "# посчитаем сколько было фактических значений (см. на строки)\n",
    "unique, counts = np.unique(y_test, return_counts = True)\n",
    "unique, counts"
   ]
  },
  {
   "cell_type": "code",
   "execution_count": 36,
   "metadata": {},
   "outputs": [
    {
     "data": {
      "text/plain": [
       "0.967"
      ]
     },
     "execution_count": 36,
     "metadata": {},
     "output_type": "execute_result"
    }
   ],
   "source": [
    "# мы можем воспользоваться встроенной в sklearn метрикой, чтобы рассчитать accuracy или долю правильных прогнозов\n",
    "from sklearn.metrics import accuracy_score\n",
    "\n",
    "model_accuracy = accuracy_score(y_test, y_pred)\n",
    "round(model_accuracy, 3)"
   ]
  },
  {
   "cell_type": "markdown",
   "metadata": {},
   "source": [
    "## Дубль два"
   ]
  },
  {
   "cell_type": "code",
   "execution_count": 40,
   "metadata": {},
   "outputs": [],
   "source": [
    "from xgboost import XGBClassifier, plot_importance, plot_tree"
   ]
  },
  {
   "cell_type": "code",
   "execution_count": 41,
   "metadata": {},
   "outputs": [],
   "source": [
    "xgb_cls = XGBClassifier(n_estimators = 100, learning_rate = 0.3, n_jobs = -1, random_state = 1)"
   ]
  },
  {
   "cell_type": "code",
   "execution_count": 42,
   "metadata": {},
   "outputs": [
    {
     "data": {
      "text/html": [
       "<style>#sk-container-id-2 {color: black;}#sk-container-id-2 pre{padding: 0;}#sk-container-id-2 div.sk-toggleable {background-color: white;}#sk-container-id-2 label.sk-toggleable__label {cursor: pointer;display: block;width: 100%;margin-bottom: 0;padding: 0.3em;box-sizing: border-box;text-align: center;}#sk-container-id-2 label.sk-toggleable__label-arrow:before {content: \"▸\";float: left;margin-right: 0.25em;color: #696969;}#sk-container-id-2 label.sk-toggleable__label-arrow:hover:before {color: black;}#sk-container-id-2 div.sk-estimator:hover label.sk-toggleable__label-arrow:before {color: black;}#sk-container-id-2 div.sk-toggleable__content {max-height: 0;max-width: 0;overflow: hidden;text-align: left;background-color: #f0f8ff;}#sk-container-id-2 div.sk-toggleable__content pre {margin: 0.2em;color: black;border-radius: 0.25em;background-color: #f0f8ff;}#sk-container-id-2 input.sk-toggleable__control:checked~div.sk-toggleable__content {max-height: 200px;max-width: 100%;overflow: auto;}#sk-container-id-2 input.sk-toggleable__control:checked~label.sk-toggleable__label-arrow:before {content: \"▾\";}#sk-container-id-2 div.sk-estimator input.sk-toggleable__control:checked~label.sk-toggleable__label {background-color: #d4ebff;}#sk-container-id-2 div.sk-label input.sk-toggleable__control:checked~label.sk-toggleable__label {background-color: #d4ebff;}#sk-container-id-2 input.sk-hidden--visually {border: 0;clip: rect(1px 1px 1px 1px);clip: rect(1px, 1px, 1px, 1px);height: 1px;margin: -1px;overflow: hidden;padding: 0;position: absolute;width: 1px;}#sk-container-id-2 div.sk-estimator {font-family: monospace;background-color: #f0f8ff;border: 1px dotted black;border-radius: 0.25em;box-sizing: border-box;margin-bottom: 0.5em;}#sk-container-id-2 div.sk-estimator:hover {background-color: #d4ebff;}#sk-container-id-2 div.sk-parallel-item::after {content: \"\";width: 100%;border-bottom: 1px solid gray;flex-grow: 1;}#sk-container-id-2 div.sk-label:hover label.sk-toggleable__label {background-color: #d4ebff;}#sk-container-id-2 div.sk-serial::before {content: \"\";position: absolute;border-left: 1px solid gray;box-sizing: border-box;top: 0;bottom: 0;left: 50%;z-index: 0;}#sk-container-id-2 div.sk-serial {display: flex;flex-direction: column;align-items: center;background-color: white;padding-right: 0.2em;padding-left: 0.2em;position: relative;}#sk-container-id-2 div.sk-item {position: relative;z-index: 1;}#sk-container-id-2 div.sk-parallel {display: flex;align-items: stretch;justify-content: center;background-color: white;position: relative;}#sk-container-id-2 div.sk-item::before, #sk-container-id-2 div.sk-parallel-item::before {content: \"\";position: absolute;border-left: 1px solid gray;box-sizing: border-box;top: 0;bottom: 0;left: 50%;z-index: -1;}#sk-container-id-2 div.sk-parallel-item {display: flex;flex-direction: column;z-index: 1;position: relative;background-color: white;}#sk-container-id-2 div.sk-parallel-item:first-child::after {align-self: flex-end;width: 50%;}#sk-container-id-2 div.sk-parallel-item:last-child::after {align-self: flex-start;width: 50%;}#sk-container-id-2 div.sk-parallel-item:only-child::after {width: 0;}#sk-container-id-2 div.sk-dashed-wrapped {border: 1px dashed gray;margin: 0 0.4em 0.5em 0.4em;box-sizing: border-box;padding-bottom: 0.4em;background-color: white;}#sk-container-id-2 div.sk-label label {font-family: monospace;font-weight: bold;display: inline-block;line-height: 1.2em;}#sk-container-id-2 div.sk-label-container {text-align: center;}#sk-container-id-2 div.sk-container {/* jupyter's `normalize.less` sets `[hidden] { display: none; }` but bootstrap.min.css set `[hidden] { display: none !important; }` so we also need the `!important` here to be able to override the default hidden behavior on the sphinx rendered scikit-learn.org. See: https://github.com/scikit-learn/scikit-learn/issues/21755 */display: inline-block !important;position: relative;}#sk-container-id-2 div.sk-text-repr-fallback {display: none;}</style><div id=\"sk-container-id-2\" class=\"sk-top-container\"><div class=\"sk-text-repr-fallback\"><pre>XGBClassifier(base_score=None, booster=None, callbacks=None,\n",
       "              colsample_bylevel=None, colsample_bynode=None,\n",
       "              colsample_bytree=None, device=None, early_stopping_rounds=None,\n",
       "              enable_categorical=False, eval_metric=None, feature_types=None,\n",
       "              gamma=None, grow_policy=None, importance_type=None,\n",
       "              interaction_constraints=None, learning_rate=0.3, max_bin=None,\n",
       "              max_cat_threshold=None, max_cat_to_onehot=None,\n",
       "              max_delta_step=None, max_depth=None, max_leaves=None,\n",
       "              min_child_weight=None, missing=nan, monotone_constraints=None,\n",
       "              multi_strategy=None, n_estimators=100, n_jobs=-1,\n",
       "              num_parallel_tree=None, objective=&#x27;multi:softprob&#x27;, ...)</pre><b>In a Jupyter environment, please rerun this cell to show the HTML representation or trust the notebook. <br />On GitHub, the HTML representation is unable to render, please try loading this page with nbviewer.org.</b></div><div class=\"sk-container\" hidden><div class=\"sk-item\"><div class=\"sk-estimator sk-toggleable\"><input class=\"sk-toggleable__control sk-hidden--visually\" id=\"sk-estimator-id-2\" type=\"checkbox\" checked><label for=\"sk-estimator-id-2\" class=\"sk-toggleable__label sk-toggleable__label-arrow\">XGBClassifier</label><div class=\"sk-toggleable__content\"><pre>XGBClassifier(base_score=None, booster=None, callbacks=None,\n",
       "              colsample_bylevel=None, colsample_bynode=None,\n",
       "              colsample_bytree=None, device=None, early_stopping_rounds=None,\n",
       "              enable_categorical=False, eval_metric=None, feature_types=None,\n",
       "              gamma=None, grow_policy=None, importance_type=None,\n",
       "              interaction_constraints=None, learning_rate=0.3, max_bin=None,\n",
       "              max_cat_threshold=None, max_cat_to_onehot=None,\n",
       "              max_delta_step=None, max_depth=None, max_leaves=None,\n",
       "              min_child_weight=None, missing=nan, monotone_constraints=None,\n",
       "              multi_strategy=None, n_estimators=100, n_jobs=-1,\n",
       "              num_parallel_tree=None, objective=&#x27;multi:softprob&#x27;, ...)</pre></div></div></div></div></div>"
      ],
      "text/plain": [
       "XGBClassifier(base_score=None, booster=None, callbacks=None,\n",
       "              colsample_bylevel=None, colsample_bynode=None,\n",
       "              colsample_bytree=None, device=None, early_stopping_rounds=None,\n",
       "              enable_categorical=False, eval_metric=None, feature_types=None,\n",
       "              gamma=None, grow_policy=None, importance_type=None,\n",
       "              interaction_constraints=None, learning_rate=0.3, max_bin=None,\n",
       "              max_cat_threshold=None, max_cat_to_onehot=None,\n",
       "              max_delta_step=None, max_depth=None, max_leaves=None,\n",
       "              min_child_weight=None, missing=nan, monotone_constraints=None,\n",
       "              multi_strategy=None, n_estimators=100, n_jobs=-1,\n",
       "              num_parallel_tree=None, objective='multi:softprob', ...)"
      ]
     },
     "execution_count": 42,
     "metadata": {},
     "output_type": "execute_result"
    }
   ],
   "source": [
    "xgb_cls.fit(X_train, y_train)"
   ]
  },
  {
   "cell_type": "code",
   "execution_count": 43,
   "metadata": {},
   "outputs": [],
   "source": [
    "y_pred = xgb_cls.predict(X_test)\n",
    "\n",
    "from sklearn.metrics import classification_report"
   ]
  },
  {
   "cell_type": "code",
   "execution_count": 44,
   "metadata": {},
   "outputs": [
    {
     "name": "stdout",
     "output_type": "stream",
     "text": [
      "              precision    recall  f1-score   support\n",
      "\n",
      "           0       0.98      0.99      0.99       530\n",
      "           1       0.96      0.91      0.94       104\n",
      "           2       1.00      1.00      1.00        55\n",
      "\n",
      "    accuracy                           0.98       689\n",
      "   macro avg       0.98      0.97      0.97       689\n",
      "weighted avg       0.98      0.98      0.98       689\n",
      "\n"
     ]
    }
   ],
   "source": [
    "print(classification_report(y_test, y_pred))"
   ]
  },
  {
   "cell_type": "code",
   "execution_count": 45,
   "metadata": {},
   "outputs": [
    {
     "data": {
      "text/plain": [
       "<Axes: title={'center': 'Feature importance'}, xlabel='F score', ylabel='Features'>"
      ]
     },
     "execution_count": 45,
     "metadata": {},
     "output_type": "execute_result"
    },
    {
     "data": {
      "image/png": "[encoded data removed]",
      "text/plain": [
       "<Figure size 640x480 with 1 Axes>"
      ]
     },
     "metadata": {},
     "output_type": "display_data"
    }
   ],
   "source": [
    "plot_importance(xgb_cls) # отбор признаков с помощью алгоритма"
   ]
  },
  {
   "cell_type": "markdown",
   "metadata": {},
   "source": [
    "## Попробуем предсказать"
   ]
  },
  {
   "cell_type": "code",
   "execution_count": 46,
   "metadata": {},
   "outputs": [
    {
     "data": {
      "text/html": [
       "<div>\n",
       "<style scoped>\n",
       "    .dataframe tbody tr th:only-of-type {\n",
       "        vertical-align: middle;\n",
       "    }\n",
       "\n",
       "    .dataframe tbody tr th {\n",
       "        vertical-align: top;\n",
       "    }\n",
       "\n",
       "    .dataframe thead th {\n",
       "        text-align: right;\n",
       "    }\n",
       "</style>\n",
       "<table border=\"1\" class=\"dataframe\">\n",
       "  <thead>\n",
       "    <tr style=\"text-align: right;\">\n",
       "      <th></th>\n",
       "      <th>Unnamed: 0</th>\n",
       "      <th>ctl_loading_date</th>\n",
       "      <th>ctl_loading</th>\n",
       "      <th>string_quantity</th>\n",
       "      <th>duplicated_by_loading</th>\n",
       "      <th>corrections</th>\n",
       "      <th>delay</th>\n",
       "      <th>day_of_week</th>\n",
       "      <th>cumulative_missing_days</th>\n",
       "      <th>rank</th>\n",
       "    </tr>\n",
       "  </thead>\n",
       "  <tbody>\n",
       "    <tr>\n",
       "      <th>0</th>\n",
       "      <td>2294</td>\n",
       "      <td>2024-03-15</td>\n",
       "      <td>83427809714</td>\n",
       "      <td>458</td>\n",
       "      <td>29</td>\n",
       "      <td>34</td>\n",
       "      <td>0 days</td>\n",
       "      <td>4</td>\n",
       "      <td>162</td>\n",
       "      <td>1</td>\n",
       "    </tr>\n",
       "  </tbody>\n",
       "</table>\n",
       "</div>"
      ],
      "text/plain": [
       "   Unnamed: 0 ctl_loading_date  ctl_loading  string_quantity  \\\n",
       "0        2294       2024-03-15  83427809714              458   \n",
       "\n",
       "   duplicated_by_loading  corrections   delay  day_of_week  \\\n",
       "0                     29           34  0 days            4   \n",
       "\n",
       "   cumulative_missing_days  rank  \n",
       "0                      162     1  "
      ]
     },
     "execution_count": 46,
     "metadata": {},
     "output_type": "execute_result"
    }
   ],
   "source": [
    "new_data = {'Unnamed: 0': [2294],\n",
    "            'ctl_loading_date': ['2024-03-15'],\n",
    "            'ctl_loading': [83427809714],\n",
    "            'string_quantity': [458],\n",
    "            'duplicated_by_loading': [29],\n",
    "            'corrections': [34],\n",
    "            'delay': ['0 days'],\n",
    "            'day_of_week': [4],\n",
    "            'cumulative_missing_days': [162],\n",
    "            'rank': [1]}\n",
    "new_data_df = pd.DataFrame(new_data)\n",
    "new_data_df\n",
    "\n",
    "# Тут может быть сразу бд, а не конкретно 1 строчка"
   ]
  },
  {
   "cell_type": "code",
   "execution_count": 47,
   "metadata": {},
   "outputs": [
    {
     "data": {
      "text/html": [
       "<div>\n",
       "<style scoped>\n",
       "    .dataframe tbody tr th:only-of-type {\n",
       "        vertical-align: middle;\n",
       "    }\n",
       "\n",
       "    .dataframe tbody tr th {\n",
       "        vertical-align: top;\n",
       "    }\n",
       "\n",
       "    .dataframe thead th {\n",
       "        text-align: right;\n",
       "    }\n",
       "</style>\n",
       "<table border=\"1\" class=\"dataframe\">\n",
       "  <thead>\n",
       "    <tr style=\"text-align: right;\">\n",
       "      <th></th>\n",
       "      <th>string_quantity</th>\n",
       "      <th>duplicated_by_loading</th>\n",
       "      <th>corrections</th>\n",
       "      <th>day_of_week</th>\n",
       "      <th>cumulative_missing_days</th>\n",
       "      <th>rank</th>\n",
       "    </tr>\n",
       "  </thead>\n",
       "  <tbody>\n",
       "    <tr>\n",
       "      <th>0</th>\n",
       "      <td>458</td>\n",
       "      <td>29</td>\n",
       "      <td>34</td>\n",
       "      <td>4</td>\n",
       "      <td>162</td>\n",
       "      <td>1</td>\n",
       "    </tr>\n",
       "  </tbody>\n",
       "</table>\n",
       "</div>"
      ],
      "text/plain": [
       "   string_quantity  duplicated_by_loading  corrections  day_of_week  \\\n",
       "0              458                     29           34            4   \n",
       "\n",
       "   cumulative_missing_days  rank  \n",
       "0                      162     1  "
      ]
     },
     "execution_count": 47,
     "metadata": {},
     "output_type": "execute_result"
    }
   ],
   "source": [
    "# Выполним предобработку данных (удалим лишние столбцы)\n",
    "X_new = new_data_df.drop(['Unnamed: 0', 'ctl_loading_date', 'ctl_loading', 'delay'], axis=1)\n",
    "X_new"
   ]
  },
  {
   "cell_type": "code",
   "execution_count": 48,
   "metadata": {},
   "outputs": [],
   "source": [
    "# Применим StandardScaler к новым данным\n",
    "scaled_new_data = scaler.transform(X_new)"
   ]
  },
  {
   "cell_type": "code",
   "execution_count": 49,
   "metadata": {},
   "outputs": [
    {
     "data": {
      "text/html": [
       "<div>\n",
       "<style scoped>\n",
       "    .dataframe tbody tr th:only-of-type {\n",
       "        vertical-align: middle;\n",
       "    }\n",
       "\n",
       "    .dataframe tbody tr th {\n",
       "        vertical-align: top;\n",
       "    }\n",
       "\n",
       "    .dataframe thead th {\n",
       "        text-align: right;\n",
       "    }\n",
       "</style>\n",
       "<table border=\"1\" class=\"dataframe\">\n",
       "  <thead>\n",
       "    <tr style=\"text-align: right;\">\n",
       "      <th></th>\n",
       "      <th>corrections</th>\n",
       "      <th>string_quantity</th>\n",
       "      <th>cumulative_missing_days</th>\n",
       "      <th>rank</th>\n",
       "      <th>duplicated_by_loading</th>\n",
       "      <th>day_of_week</th>\n",
       "    </tr>\n",
       "  </thead>\n",
       "  <tbody>\n",
       "    <tr>\n",
       "      <th>0</th>\n",
       "      <td>0.250664</td>\n",
       "      <td>1.174266</td>\n",
       "      <td>0.70506</td>\n",
       "      <td>0.498068</td>\n",
       "      <td>1.621157</td>\n",
       "      <td>-0.316894</td>\n",
       "    </tr>\n",
       "  </tbody>\n",
       "</table>\n",
       "</div>"
      ],
      "text/plain": [
       "   corrections  string_quantity  cumulative_missing_days      rank  \\\n",
       "0     0.250664         1.174266                  0.70506  0.498068   \n",
       "\n",
       "   duplicated_by_loading  day_of_week  \n",
       "0               1.621157    -0.316894  "
      ]
     },
     "execution_count": 49,
     "metadata": {},
     "output_type": "execute_result"
    }
   ],
   "source": [
    "# Преобразуем в DataFrame\n",
    "scaled_new_df = pd.DataFrame(scaled_new_data, columns=X.columns)\n",
    "scaled_new_df"
   ]
  },
  {
   "cell_type": "code",
   "execution_count": 50,
   "metadata": {},
   "outputs": [
    {
     "data": {
      "text/plain": [
       "0"
      ]
     },
     "execution_count": 50,
     "metadata": {},
     "output_type": "execute_result"
    }
   ],
   "source": [
    "# Выполним классификацию на новых данных\n",
    "new_prediction = model.predict(scaled_new_df)\n",
    "new_prediction[0]  # Результат классификации 0 - норма, 1 - выброс 1, 2 - выброс 2"
   ]
  }
 ],
 "metadata": {
  "kernelspec": {
   "display_name": "base",
   "language": "python",
   "name": "python3"
  },
  "language_info": {
   "codemirror_mode": {
    "name": "ipython",
    "version": 3
   },
   "file_extension": ".py",
   "mimetype": "text/x-python",
   "name": "python",
   "nbconvert_exporter": "python",
   "pygments_lexer": "ipython3",
   "version": "3.10.13"
  }
 },
 "nbformat": 4,
 "nbformat_minor": 2
}
